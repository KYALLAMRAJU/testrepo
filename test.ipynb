{
 "cells": [
  {
   "cell_type": "code",
   "id": "initial_id",
   "metadata": {
    "collapsed": true,
    "ExecuteTime": {
     "end_time": "2025-08-12T23:08:00.407790Z",
     "start_time": "2025-08-12T23:08:00.387776Z"
    }
   },
   "source": [
    "from sys import path as p\n",
    "p.append(\"C:\\\\Users\\\\ckaly\\\\PycharmProjects\\\\pythonlearning\\\\pythonProject\")\n",
    "import mytest as mt\n",
    "mt.employee1\n"
   ],
   "outputs": [
    {
     "data": {
      "text/plain": [
       "'sudhir'"
      ]
     },
     "execution_count": 1,
     "metadata": {},
     "output_type": "execute_result"
    }
   ],
   "execution_count": 1
  },
  {
   "metadata": {
    "ExecuteTime": {
     "end_time": "2025-08-15T16:35:45.586964Z",
     "start_time": "2025-08-15T16:34:08.917191Z"
    }
   },
   "cell_type": "code",
   "source": "%run atmhandling.py",
   "id": "6a5c97657d1139b6",
   "outputs": [
    {
     "name": "stdout",
     "output_type": "stream",
     "text": [
      "Pin verified-now you can continue with Atm operations\n",
      "\t ATM OPERATIONS\n",
      "\t 1.DEPOSIT\n",
      "\t 2.WITHDRAW\n",
      "\t 3.AVAILABLE BALANCE\n",
      "\t 4.Save Data\n",
      "\t 5.Read Data\n",
      "\t 6.EXIT\n",
      "balance amount after deposit is:12500\n",
      "\t ATM OPERATIONS\n",
      "\t 1.DEPOSIT\n",
      "\t 2.WITHDRAW\n",
      "\t 3.AVAILABLE BALANCE\n",
      "\t 4.Save Data\n",
      "\t 5.Read Data\n",
      "\t 6.EXIT\n",
      "customer data saved successfully\n",
      "customer data saved successfully\n",
      "Thanks for using\n",
      "\t ATM OPERATIONS\n",
      "\t 1.DEPOSIT\n",
      "\t 2.WITHDRAW\n",
      "\t 3.AVAILABLE BALANCE\n",
      "\t 4.Save Data\n",
      "\t 5.Read Data\n",
      "\t 6.EXIT\n",
      "1 klayan hyderabad 11000 \n",
      "OOPS something went wrong try again: Ran out of input\n",
      "\t ATM OPERATIONS\n",
      "\t 1.DEPOSIT\n",
      "\t 2.WITHDRAW\n",
      "\t 3.AVAILABLE BALANCE\n",
      "\t 4.Save Data\n",
      "\t 5.Read Data\n",
      "\t 6.EXIT\n",
      "1 klayan hyderabad 11000 \n",
      "OOPS something went wrong try again: Ran out of input\n",
      "\t ATM OPERATIONS\n",
      "\t 1.DEPOSIT\n",
      "\t 2.WITHDRAW\n",
      "\t 3.AVAILABLE BALANCE\n",
      "\t 4.Save Data\n",
      "\t 5.Read Data\n",
      "\t 6.EXIT\n",
      "thank you for using my program\n"
     ]
    },
    {
     "ename": "NameError",
     "evalue": "name 'exit' is not defined",
     "output_type": "error",
     "traceback": [
      "\u001B[31m---------------------------------------------------------------------------\u001B[39m",
      "\u001B[31mNameError\u001B[39m                                 Traceback (most recent call last)",
      "\u001B[36mFile \u001B[39m\u001B[32mD:\\pythonProject2\\atmhandling.py:67\u001B[39m\n\u001B[32m     65\u001B[39m \u001B[38;5;28;01mcase\u001B[39;00m \u001B[32m6\u001B[39m:\n\u001B[32m     66\u001B[39m     \u001B[38;5;28mprint\u001B[39m(\u001B[33m\"\u001B[39m\u001B[33mthank you for using my program\u001B[39m\u001B[33m\"\u001B[39m)\n\u001B[32m---> \u001B[39m\u001B[32m67\u001B[39m     \u001B[43mexit\u001B[49m()\n\u001B[32m     68\u001B[39m \u001B[38;5;28;01mcase\u001B[39;00m\u001B[38;5;250m \u001B[39m\u001B[38;5;28;01m_\u001B[39;00m:\n\u001B[32m     69\u001B[39m     \u001B[38;5;28mprint\u001B[39m(\u001B[33m\"\u001B[39m\u001B[33minvalid input\u001B[39m\u001B[33m\"\u001B[39m)\n",
      "\u001B[31mNameError\u001B[39m: name 'exit' is not defined"
     ]
    }
   ],
   "execution_count": 1
  }
 ],
 "metadata": {
  "kernelspec": {
   "display_name": "Python 3",
   "language": "python",
   "name": "python3"
  },
  "language_info": {
   "codemirror_mode": {
    "name": "ipython",
    "version": 2
   },
   "file_extension": ".py",
   "mimetype": "text/x-python",
   "name": "python",
   "nbconvert_exporter": "python",
   "pygments_lexer": "ipython2",
   "version": "2.7.6"
  }
 },
 "nbformat": 4,
 "nbformat_minor": 5
}
